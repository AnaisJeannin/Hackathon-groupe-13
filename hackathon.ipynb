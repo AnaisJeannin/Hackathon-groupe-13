{
 "cells": [
  {
   "cell_type": "markdown",
   "metadata": {},
   "source": [
    "Initialisation du jeu aléatoire :"
   ]
  },
  {
   "cell_type": "code",
   "execution_count": 6,
   "metadata": {},
   "outputs": [
    {
     "name": "stdout",
     "output_type": "stream",
     "text": [
      "[[1 8 0]\n",
      " [3 2 4]\n",
      " [6 5 7]]\n"
     ]
    }
   ],
   "source": [
    "import numpy as np\n",
    "import random\n",
    "\n",
    "def initialisation():\n",
    "    explore = []\n",
    "    while len(explore) < 9:\n",
    "        a = random.randint(0, 8)\n",
    "        if a not in explore:\n",
    "            explore.append(a)\n",
    "    \n",
    "    plateau_initial = np.array(explore).reshape((3,3))\n",
    "    return plateau_initial\n",
    "\n",
    "print(initialisation())\n"
   ]
  }
 ],
 "metadata": {
  "kernelspec": {
   "display_name": "base",
   "language": "python",
   "name": "python3"
  },
  "language_info": {
   "codemirror_mode": {
    "name": "ipython",
    "version": 3
   },
   "file_extension": ".py",
   "mimetype": "text/x-python",
   "name": "python",
   "nbconvert_exporter": "python",
   "pygments_lexer": "ipython3",
   "version": "3.12.4"
  }
 },
 "nbformat": 4,
 "nbformat_minor": 2
}
