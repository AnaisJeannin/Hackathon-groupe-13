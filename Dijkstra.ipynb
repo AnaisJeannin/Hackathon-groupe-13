{
 "cells": [
  {
   "cell_type": "markdown",
   "id": "774df00a-2884-41ab-82a4-856c2601a2cc",
   "metadata": {},
   "source": [
    "CODE "
   ]
  },
  {
   "cell_type": "code",
   "execution_count": 2,
   "id": "231b8759-4623-4f23-826c-249ea51f3b3d",
   "metadata": {},
   "outputs": [],
   "source": [
    "import numpy as np"
   ]
  },
  {
   "cell_type": "code",
   "execution_count": 4,
   "id": "077421e6-4309-439a-9c48-b043d60df8b5",
   "metadata": {},
   "outputs": [],
   "source": [
    "etat_init=[8, 6, 7, 5, 0, 1, 3, 2, 4]\n",
    "\n",
    "etat_final=[1, 2, 3, 4, 5, 6, 7, 8, 0]\n",
    "#L'algo étant sym, on part de la solution et on essaie de revenir à initial\n",
    "grille = {1:[1, 2, 3, 4, 5, 6, 7, 8, 0]} #on implémente les grilles dans un dico qui nous donne le coup et l'état de la grille associé\n",
    "\n",
    "#configuration_atteignables = list[np.array(3,3)] ; arrêtes = [[2 int: voisins]]\n",
    "\n"
   ]
  },
  {
   "cell_type": "code",
   "execution_count": 5,
   "id": "a8e30a5f-32bd-4790-919b-0eccf2ab9f32",
   "metadata": {},
   "outputs": [],
   "source": [
    "from collections import deque\n",
    "import heapq\n",
    "import numpy as np\n",
    "\n",
    "####### VARIABLES ########\n",
    "# g : list des configs possibles = liste des sommets\n",
    "\n",
    "\n",
    "# dijkstra_path\n",
    "def dijkstra_path(g, v_init,v_fin):\n",
    "  visited = {x : False for x in g}  #dico des sommets visités {config:Bool}\n",
    "  pred = {x : None for x in g}      #dico des predecesseurs\n",
    "  dist = {x : float('inf') for x in g} #dico des distances\n",
    "  dist[v_init] = 0  #v_init est à distance 0 de lui-même\n",
    "  hq = [(0, v_init)]\n",
    "  heapq.heapify(hq)  # création de la FP\n",
    "  N=0   # compteur des sommets visités\n",
    "  while len(hq)>0 and not(visited[v_fin]): # visite des sommets\n",
    "    dv,v=heapq.heappop(hq)  # extraction du sommet de prio min\n",
    "    if not visited[v]:   # s'il n'est pas déjà visité,\n",
    "      visited[v] = True   # on le visite NAO\n",
    "      N+=1  #maj du compteur\n",
    "      for w in g[v]:# parcours des voisins non visités de v car g[v] est liste des sommets atteignables à partir de v (et l'arrête est de poids 1)\n",
    "        if not visited[w]:\n",
    "          dw = dv + 1    # relâchement de l'arête (v,w)\n",
    "          if dw < dist[w]:\n",
    "            dist[w] = dw   # maj de la distance min\n",
    "            pred[w] = v    # maj du prédécesseur\n",
    "            heapq.heappush(hq, (dw, w)) # ajout dans la FP\n",
    "  if not visited[v_fin]: # cas où v_fin n'est pas accessible\n",
    "    print(\"Pas de solution, en partant de \"+str(v_fin))\n",
    "  else:   #construction du chemin\n",
    "    C=[v_fin]\n",
    "    while C[0]!= v_init:\n",
    "      w=pred[C[0]]\n",
    "      C=[w]+C\n",
    "    return N,dist[v_fin],C"
   ]
  },
  {
   "cell_type": "code",
   "execution_count": null,
   "id": "d985619c-6a2e-40d8-b044-c6348c7d1242",
   "metadata": {},
   "outputs": [],
   "source": []
  }
 ],
 "metadata": {
  "kernelspec": {
   "display_name": "Python 3 (ipykernel)",
   "language": "python",
   "name": "python3"
  },
  "language_info": {
   "codemirror_mode": {
    "name": "ipython",
    "version": 3
   },
   "file_extension": ".py",
   "mimetype": "text/x-python",
   "name": "python",
   "nbconvert_exporter": "python",
   "pygments_lexer": "ipython3",
   "version": "3.12.4"
  }
 },
 "nbformat": 4,
 "nbformat_minor": 5
}
