{
 "cells": [
  {
   "cell_type": "markdown",
   "id": "774df00a-2884-41ab-82a4-856c2601a2cc",
   "metadata": {},
   "source": [
    "CODE "
   ]
  },
  {
   "cell_type": "code",
   "execution_count": 1,
   "id": "231b8759-4623-4f23-826c-249ea51f3b3d",
   "metadata": {},
   "outputs": [],
   "source": [
    "import numpy as np"
   ]
  },
  {
   "cell_type": "code",
   "execution_count": 2,
   "id": "077421e6-4309-439a-9c48-b043d60df8b5",
   "metadata": {},
   "outputs": [],
   "source": [
    "etat_init=[8,6,7,5,0,1,3,2,4]\n",
    "\n",
    "etat_final=[1,2,3,4,5,6,7,8,0]\n",
    "#L'algo étant sym, on part de la solution et on essaie de revenir à initial\n",
    "grille = {1:[1, 2, 3, 4, 5, 6, 7, 8, 0]} #on implémente les grilles dans un dico qui nous donne le coup et l'état de la grille asso\n",
    "#configuration_atteignables = list[np.array(3,3)] ; arrêtes = [[2 int: voisins]]\n",
    "\n"
   ]
  },
  {
   "cell_type": "code",
   "execution_count": 3,
   "id": "a8e30a5f-32bd-4790-919b-0eccf2ab9f32",
   "metadata": {},
   "outputs": [],
   "source": [
    "from collections import deque\n",
    "import heapq\n",
    "import numpy as np\n",
    "\n",
    "####### VARIABLES ########\n",
    "# g : list des configs possibles = liste des sommets\n",
    "\n",
    "\n",
    "# dijkstra_path\n",
    "def dijkstra_path(g, v_init,v_fin):\n",
    "  visited = {x : False for x in g}  #dico des sommets visités {config:Bool}\n",
    "  pred = {x : None for x in g}      #dico des predecesseurs\n",
    "  dist = {x : float('inf') for x in g} #dico des distances\n",
    "  dist[v_init] = 0  #v_init est à distance 0 de lui-même\n",
    "  hq = [(0, v_init)]\n",
    "  heapq.heapify(hq)  # création de la FP\n",
    "  N=0   # compteur des sommets visités\n",
    "  while len(hq)>0 and not(visited[v_fin]): # visite des sommets\n",
    "    dv,v=heapq.heappop(hq)  # extraction du sommet de prio min\n",
    "    if not visited[v]:   # s'il n'est pas déjà visité,\n",
    "      visited[v] = True   # on le visite NAO\n",
    "      N+=1  #maj du compteur\n",
    "      for w in g[v]:# parcours des voisins non visités de v car g[v] est liste des sommets atteignables à partir de v (et l'arrête est de poids 1)\n",
    "        if not visited[w]:\n",
    "          dw = dv + 1    # relâchement de l'arête (v,w)\n",
    "          if dw < dist[w]:\n",
    "            dist[w] = dw   # maj de la distance min\n",
    "            pred[w] = v    # maj du prédécesseur\n",
    "            heapq.heappush(hq, (dw, w)) # ajout dans la FP\n",
    "  if not visited[v_fin]: # cas où v_fin n'est pas accessible\n",
    "    print(\"Pas de solution, en partant de \"+str(v_fin))\n",
    "  else:   #construction du chemin\n",
    "    C=[v_fin]\n",
    "    while C[0]!= v_init:\n",
    "      w=pred[C[0]]\n",
    "      C=[w]+C\n",
    "    return N,dist[v_fin],C"
   ]
  },
  {
   "cell_type": "markdown",
   "id": "e7c013cf-ea45-40d9-a9ab-1900d64444ff",
   "metadata": {},
   "source": [
    "AFFICHER la solution hihiih\n"
   ]
  },
  {
   "cell_type": "code",
   "execution_count": 4,
   "id": "8d6f2858-c74f-4da9-91ea-5584d73b5ee9",
   "metadata": {},
   "outputs": [
    {
     "ename": "NameError",
     "evalue": "name 'configuration_atteignable' is not defined",
     "output_type": "error",
     "traceback": [
      "\u001b[1;31m---------------------------------------------------------------------------\u001b[0m",
      "\u001b[1;31mNameError\u001b[0m                                 Traceback (most recent call last)",
      "Cell \u001b[1;32mIn[4], line 1\u001b[0m\n\u001b[1;32m----> 1\u001b[0m N, dist, Pb_résolu\u001b[38;5;241m=\u001b[39mdijkstra_path(\u001b[43mconfiguration_atteignable\u001b[49m, etat_final, etat_init)\n\u001b[0;32m      2\u001b[0m \u001b[38;5;28mprint\u001b[39m(\u001b[38;5;124mf\u001b[39m\u001b[38;5;124m\"\u001b[39m\u001b[38;5;124mla solution se fait en \u001b[39m\u001b[38;5;132;01m{\u001b[39;00mN\u001b[38;5;132;01m}\u001b[39;00m\u001b[38;5;124m coups\u001b[39m\u001b[38;5;124m\"\u001b[39m)\n\u001b[0;32m      3\u001b[0m \u001b[38;5;28;01mfor\u001b[39;00m i \u001b[38;5;129;01min\u001b[39;00m \u001b[38;5;28mlen\u001b[39m(\u001b[38;5;241m0\u001b[39m,N):\n",
      "\u001b[1;31mNameError\u001b[0m: name 'configuration_atteignable' is not defined"
     ]
    }
   ],
   "source": [
    "N, dist, Pb_résolu=dijkstra_path(configurations_atteignables, etat_final, etat_init)\n",
    "print(f\"la solution se fait en {N} coups\")\n",
    "for i in len(0,N):\n",
    "    print(i, Pb_résolu[-i]) #On affiche à nouveau dans le bon ordre ie de la configuration aléatoire à 123456780."
   ]
  },
  {
   "cell_type": "code",
   "execution_count": null,
   "id": "fcb20bb2-0eed-4efb-adba-35f4a0ffb319",
   "metadata": {},
   "outputs": [],
   "source": []
  }
 ],
 "metadata": {
  "kernelspec": {
   "display_name": "Python 3 (ipykernel)",
   "language": "python",
   "name": "python3"
  },
  "language_info": {
   "codemirror_mode": {
    "name": "ipython",
    "version": 3
   },
   "file_extension": ".py",
   "mimetype": "text/x-python",
   "name": "python",
   "nbconvert_exporter": "python",
   "pygments_lexer": "ipython3",
   "version": "3.12.4"
  }
 },
 "nbformat": 4,
 "nbformat_minor": 5
}
