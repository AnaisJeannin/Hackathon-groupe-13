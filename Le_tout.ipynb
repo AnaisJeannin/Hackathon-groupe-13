{
 "cells": [
  {
   "cell_type": "code",
   "execution_count": 29,
   "id": "c5e6286e-3430-4698-8983-b605bf36ac5d",
   "metadata": {},
   "outputs": [],
   "source": [
    "from collections import deque\n",
    "import heapq\n",
    "import numpy as np\n",
    "import random"
   ]
  },
  {
   "cell_type": "markdown",
   "id": "4e52c55f-5d66-4c99-afef-b27ca47ae4fb",
   "metadata": {},
   "source": [
    "On initialise le jeu avec une configuration aléatoire."
   ]
  },
  {
   "cell_type": "code",
   "execution_count": 30,
   "id": "98c109d6-b69d-4160-8024-94b158869355",
   "metadata": {},
   "outputs": [],
   "source": [
    "def initialisation():\n",
    "    plateau_initial = []\n",
    "    while len(plateau_initial) < 9:\n",
    "        a = random.randint(0, 8)\n",
    "        if a not in plateau_initial:\n",
    "            plateau_initial.append(a)\n",
    "\n",
    "    return plateau_initial\n",
    "\n",
    "#jeu_initial=initialisation()\n",
    "#print(jeu_initial)\n",
    "jeu_initial=[8,6,7,5,0,1,3,2,4]"
   ]
  },
  {
   "cell_type": "markdown",
   "id": "a8198ac4-6fed-4b6b-8962-69bd1d84c3e7",
   "metadata": {},
   "source": [
    "Maintenant, on peut créer notre liste de toutes les configurations accessibles à partir de l'initiale."
   ]
  },
  {
   "cell_type": "code",
   "execution_count": 31,
   "id": "f6f19496-9bc3-4b3a-b579-09f50d6364fe",
   "metadata": {},
   "outputs": [],
   "source": [
    "def position_0(grille):\n",
    "    for i in range(9):\n",
    "        if grille[i]== 0 :\n",
    "            position = np.array([i//3 , i%3])\n",
    "            indice = i\n",
    "            break\n",
    "    return position , indice"
   ]
  },
  {
   "cell_type": "code",
   "execution_count": 32,
   "id": "204166a6-62ab-4e7c-8dee-aba7592042b0",
   "metadata": {},
   "outputs": [],
   "source": [
    "def configurations_atteignables(probleme:list):\n",
    "\n",
    "    probleme_t = tuple(probleme)\n",
    "\n",
    "    configurations_atteignables = set()  #on y mettra toutes les configurations qui sont accessibles depuis le problème initial\n",
    "    configurations_atteignables.add(probleme_t)\n",
    "\n",
    "    arretes = {} # dictionnaire avec configuration possible en clé et en valeurs la liste des configurations auxquelles elle est reliée par un mouvement élémentaire\n",
    "\n",
    "\n",
    "    voisins = [probleme] #on y met les configuartions atteignables que l'on n'a pas encore visité\n",
    "    heapq.heapify(voisins) # on initialise la pile\n",
    "    mouvements_possibles = [np.array([1,0]) , np.array([-1,0]) , np.array([0,1]) , np.array([0,-1])] #mouvements élémentaires possibles\n",
    "\n",
    "    while len(voisins)>0 :  \n",
    "        config = heapq.heappop(voisins) \n",
    "        position , indice = position_0(config)\n",
    "        config_t = tuple(config)  # on a besoin d'un type hashable\n",
    "        arretes[config_t] = []\n",
    "        for k in mouvements_possibles :\n",
    "            nouvelle_position = position + k\n",
    "            i , j = position[0] , position[1] \n",
    "            i_nouv , j_nouv = nouvelle_position[0], nouvelle_position[1] \n",
    "            indice_nouv = 3*i_nouv + j_nouv\n",
    "\n",
    "            if (i_nouv <= 2 ) and (j_nouv <= 2 ) and (i_nouv >= 0 ) and (j_nouv >= 0) :\n",
    "\n",
    "                nouv_config = config.copy()\n",
    "                nouv_config[indice_nouv] , nouv_config[indice] = config[indice] , config[indice_nouv]\n",
    "                nouv_config_t = tuple(nouv_config) # on a besoin d'un type hashable\n",
    "\n",
    "                if nouv_config_t not in configurations_atteignables :\n",
    "                    configurations_atteignables.add(nouv_config_t)\n",
    "                    heapq.heappush(voisins, nouv_config)\n",
    "                    arretes[config_t].append(nouv_config_t)\n",
    "                    arretes[nouv_config_t] = [config_t]\n",
    "    \n",
    "    return configurations_atteignables , arretes\n"
   ]
  },
  {
   "cell_type": "code",
   "execution_count": 33,
   "id": "0f8d494f-b8c5-45b3-8023-660935289c26",
   "metadata": {},
   "outputs": [
    {
     "name": "stdout",
     "output_type": "stream",
     "text": [
      "<class 'list'>\n"
     ]
    }
   ],
   "source": [
    "configurations_atteignables_, arretes = configurations_atteignables(jeu_initial)\n",
    "\n",
    "print(type(list(configurations_atteignables_)))"
   ]
  },
  {
   "cell_type": "markdown",
   "id": "c65f2cb4-2d95-4874-9e80-76c5a3c99de6",
   "metadata": {},
   "source": [
    "Si la solution est atteignable, on lance alors Dijkstra pour trouver un chemin reliant les configurations initiales et finales."
   ]
  },
  {
   "cell_type": "code",
   "execution_count": 34,
   "id": "36491a91-63fd-44ce-82a8-1c98a10af5c4",
   "metadata": {},
   "outputs": [],
   "source": [
    "########### dijkstra_path ##############\n",
    "\n",
    "\n",
    "def dijkstra_path(g : dict, v_init,v_fin):\n",
    "  visited = {x : False for x in g}  #dico des sommets visités {config:Bool}\n",
    "  pred = {x : None for x in g}      #dico des predecesseurs\n",
    "  dist = {x : float('inf') for x in g} #dico des distances\n",
    "  dist[v_init] = 0  #v_init est à distance 0 de lui-même\n",
    "  hq = [(0, v_init)]\n",
    "  heapq.heapify(hq)  # création de la FP\n",
    "  N=0   # compteur des sommets visités\n",
    "  while len(hq)>0 and not(visited[v_fin]): # visite des sommets\n",
    "    dv,v=heapq.heappop(hq)  # extraction du sommet de prio min\n",
    "    if not visited[v]:   # s'il n'est pas déjà visité,\n",
    "      visited[v] = True   # on le visite NAO\n",
    "      N+=1  #maj du compteur\n",
    "      for w in g[v]:\n",
    "# parcours des voisins non visités de v car g[v] est liste des sommets atteignables à partir de v (et l'arrête est de poids 1)\n",
    "        if not visited[w]:\n",
    "          dw = dv + 1    # relâchement de l'arête (v,w)\n",
    "          if dw < dist[w]:\n",
    "            dist[w] = dw   # maj de la distance min\n",
    "            pred[w] = v    # maj du prédécesseur\n",
    "            heapq.heappush(hq, (dw, w)) # ajout dans la FP\n",
    "  if not visited[v_fin]: # cas où v_fin n'est pas accessible\n",
    "    print(\"Pas de solution, en partant de \"+str(v_fin))\n",
    "  else:   #construction du chemin\n",
    "    C=[v_fin]\n",
    "    while C[0]!= v_init:\n",
    "      w=pred[C[0]]\n",
    "      C=[w]+C\n",
    "    return N,dist[v_fin],C"
   ]
  },
  {
   "cell_type": "markdown",
   "id": "7746304a",
   "metadata": {},
   "source": [
    "Il faut tout de même vérifier que la solution ie [1,2,3,4,5,6,7,8,0] est dans les configurations atteignables."
   ]
  },
  {
   "cell_type": "code",
   "execution_count": 35,
   "id": "9c978cba",
   "metadata": {},
   "outputs": [
    {
     "name": "stdout",
     "output_type": "stream",
     "text": [
      "la solution se fait en 93 coups\n",
      "1 (8, 6, 7, 5, 0, 1, 3, 2, 4)\n",
      "2 (8, 0, 7, 5, 6, 1, 3, 2, 4)\n",
      "3 (0, 8, 7, 5, 6, 1, 3, 2, 4)\n",
      "4 (5, 8, 7, 0, 6, 1, 3, 2, 4)\n",
      "5 (5, 8, 7, 3, 6, 1, 0, 2, 4)\n",
      "6 (5, 8, 7, 3, 6, 1, 2, 0, 4)\n",
      "7 (5, 8, 7, 3, 0, 1, 2, 6, 4)\n",
      "8 (5, 0, 7, 3, 8, 1, 2, 6, 4)\n",
      "9 (0, 5, 7, 3, 8, 1, 2, 6, 4)\n",
      "10 (3, 5, 7, 0, 8, 1, 2, 6, 4)\n",
      "11 (3, 5, 7, 2, 8, 1, 0, 6, 4)\n",
      "12 (3, 5, 7, 2, 8, 1, 6, 0, 4)\n",
      "13 (3, 5, 7, 2, 0, 1, 6, 8, 4)\n",
      "14 (3, 0, 7, 2, 5, 1, 6, 8, 4)\n",
      "15 (0, 3, 7, 2, 5, 1, 6, 8, 4)\n",
      "16 (2, 3, 7, 0, 5, 1, 6, 8, 4)\n",
      "17 (2, 3, 7, 5, 0, 1, 6, 8, 4)\n",
      "18 (2, 3, 7, 5, 1, 0, 6, 8, 4)\n",
      "19 (2, 3, 0, 5, 1, 7, 6, 8, 4)\n",
      "20 (2, 0, 3, 5, 1, 7, 6, 8, 4)\n",
      "21 (2, 1, 3, 5, 0, 7, 6, 8, 4)\n",
      "22 (2, 1, 3, 0, 5, 7, 6, 8, 4)\n",
      "23 (0, 1, 3, 2, 5, 7, 6, 8, 4)\n",
      "24 (1, 0, 3, 2, 5, 7, 6, 8, 4)\n",
      "25 (1, 3, 0, 2, 5, 7, 6, 8, 4)\n",
      "26 (1, 3, 7, 2, 5, 0, 6, 8, 4)\n",
      "27 (1, 3, 7, 2, 5, 4, 6, 8, 0)\n",
      "28 (1, 3, 7, 2, 5, 4, 6, 0, 8)\n",
      "29 (1, 3, 7, 2, 0, 4, 6, 5, 8)\n",
      "30 (1, 3, 7, 2, 4, 0, 6, 5, 8)\n",
      "31 (1, 3, 7, 2, 4, 8, 6, 5, 0)\n",
      "32 (1, 3, 7, 2, 4, 8, 6, 0, 5)\n",
      "33 (1, 3, 7, 2, 4, 8, 0, 6, 5)\n",
      "34 (1, 3, 7, 0, 4, 8, 2, 6, 5)\n",
      "35 (1, 3, 7, 4, 0, 8, 2, 6, 5)\n",
      "36 (1, 3, 7, 4, 6, 8, 2, 0, 5)\n",
      "37 (1, 3, 7, 4, 6, 8, 2, 5, 0)\n",
      "38 (1, 3, 7, 4, 6, 0, 2, 5, 8)\n",
      "39 (1, 3, 7, 4, 0, 6, 2, 5, 8)\n",
      "40 (1, 3, 7, 0, 4, 6, 2, 5, 8)\n",
      "41 (1, 3, 7, 2, 4, 6, 0, 5, 8)\n",
      "42 (1, 3, 7, 2, 4, 6, 5, 0, 8)\n",
      "43 (1, 3, 7, 2, 4, 6, 5, 8, 0)\n",
      "44 (1, 3, 7, 2, 4, 0, 5, 8, 6)\n",
      "45 (1, 3, 7, 2, 0, 4, 5, 8, 6)\n",
      "46 (1, 3, 7, 0, 2, 4, 5, 8, 6)\n",
      "47 (1, 3, 7, 5, 2, 4, 0, 8, 6)\n",
      "48 (1, 3, 7, 5, 2, 4, 8, 0, 6)\n",
      "49 (1, 3, 7, 5, 2, 4, 8, 6, 0)\n",
      "50 (1, 3, 7, 5, 2, 0, 8, 6, 4)\n",
      "51 (1, 3, 0, 5, 2, 7, 8, 6, 4)\n",
      "52 (1, 0, 3, 5, 2, 7, 8, 6, 4)\n",
      "53 (1, 2, 3, 5, 0, 7, 8, 6, 4)\n",
      "54 (1, 2, 3, 5, 6, 7, 8, 0, 4)\n",
      "55 (1, 2, 3, 5, 6, 7, 8, 4, 0)\n",
      "56 (1, 2, 3, 5, 6, 0, 8, 4, 7)\n",
      "57 (1, 2, 3, 5, 0, 6, 8, 4, 7)\n",
      "58 (1, 2, 3, 5, 4, 6, 8, 0, 7)\n",
      "59 (1, 2, 3, 5, 4, 6, 0, 8, 7)\n",
      "60 (1, 2, 3, 0, 4, 6, 5, 8, 7)\n",
      "61 (1, 2, 3, 4, 0, 6, 5, 8, 7)\n",
      "62 (1, 2, 3, 4, 6, 0, 5, 8, 7)\n",
      "63 (1, 2, 3, 4, 6, 7, 5, 8, 0)\n",
      "64 (1, 2, 3, 4, 6, 7, 5, 0, 8)\n",
      "65 (1, 2, 3, 4, 0, 7, 5, 6, 8)\n",
      "66 (1, 2, 3, 4, 7, 0, 5, 6, 8)\n",
      "67 (1, 2, 3, 4, 7, 8, 5, 6, 0)\n",
      "68 (1, 2, 3, 4, 7, 8, 5, 0, 6)\n",
      "69 (1, 2, 3, 4, 0, 8, 5, 7, 6)\n",
      "70 (1, 2, 3, 0, 4, 8, 5, 7, 6)\n",
      "71 (1, 2, 3, 5, 4, 8, 0, 7, 6)\n",
      "72 (1, 2, 3, 5, 4, 8, 7, 0, 6)\n",
      "73 (1, 2, 3, 5, 4, 8, 7, 6, 0)\n",
      "74 (1, 2, 3, 5, 4, 0, 7, 6, 8)\n",
      "75 (1, 2, 3, 5, 0, 4, 7, 6, 8)\n",
      "76 (1, 2, 3, 5, 6, 4, 7, 0, 8)\n",
      "77 (1, 2, 3, 5, 6, 4, 0, 7, 8)\n",
      "78 (1, 2, 3, 0, 6, 4, 5, 7, 8)\n",
      "79 (1, 2, 3, 6, 0, 4, 5, 7, 8)\n",
      "80 (1, 2, 3, 6, 4, 0, 5, 7, 8)\n",
      "81 (1, 2, 3, 6, 4, 8, 5, 7, 0)\n",
      "82 (1, 2, 3, 6, 4, 8, 5, 0, 7)\n",
      "83 (1, 2, 3, 6, 0, 8, 5, 4, 7)\n",
      "84 (1, 2, 3, 0, 6, 8, 5, 4, 7)\n",
      "85 (1, 2, 3, 5, 6, 8, 0, 4, 7)\n",
      "86 (1, 2, 3, 5, 6, 8, 4, 0, 7)\n",
      "87 (1, 2, 3, 5, 6, 8, 4, 7, 0)\n",
      "88 (1, 2, 3, 5, 6, 0, 4, 7, 8)\n",
      "89 (1, 2, 3, 5, 0, 6, 4, 7, 8)\n",
      "90 (1, 2, 3, 0, 5, 6, 4, 7, 8)\n",
      "91 (1, 2, 3, 4, 5, 6, 0, 7, 8)\n",
      "92 (1, 2, 3, 4, 5, 6, 7, 0, 8)\n",
      "93 (1, 2, 3, 4, 5, 6, 7, 8, 0)\n"
     ]
    }
   ],
   "source": [
    "solution = tuple([1,2,3,4,5,6,7,8,0])\n",
    "if solution not in configurations_atteignables_ : \n",
    "    print(dijkstra_path(arretes, tuple(jeu_initial), solution))\n",
    "    print(\"Il n'y a pas de solution à partir de cette configuration initiale...\")\n",
    "else :\n",
    "    N, dist, Pb_résolu=dijkstra_path(arretes, tuple(jeu_initial), solution)\n",
    "    n=len(Pb_résolu)\n",
    "    print(f\"la solution se fait en {n} coups\")\n",
    "    for i in range(n):\n",
    "        print(i+1, Pb_résolu[i]) "
   ]
  }
 ],
 "metadata": {
  "kernelspec": {
   "display_name": "base",
   "language": "python",
   "name": "python3"
  },
  "language_info": {
   "codemirror_mode": {
    "name": "ipython",
    "version": 3
   },
   "file_extension": ".py",
   "mimetype": "text/x-python",
   "name": "python",
   "nbconvert_exporter": "python",
   "pygments_lexer": "ipython3",
   "version": "3.12.4"
  }
 },
 "nbformat": 4,
 "nbformat_minor": 5
}
