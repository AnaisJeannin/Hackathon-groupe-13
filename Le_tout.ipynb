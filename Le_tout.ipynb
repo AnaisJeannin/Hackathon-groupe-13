{
 "cells": [
  {
   "cell_type": "code",
   "execution_count": 1,
   "id": "c5e6286e-3430-4698-8983-b605bf36ac5d",
   "metadata": {},
   "outputs": [],
   "source": [
    "from collections import deque\n",
    "import heapq\n",
    "import numpy as np\n",
    "import random"
   ]
  },
  {
   "cell_type": "markdown",
   "id": "4e52c55f-5d66-4c99-afef-b27ca47ae4fb",
   "metadata": {},
   "source": [
    "On initialise le jeu avec une configuration aléatoire."
   ]
  },
  {
   "cell_type": "code",
   "execution_count": 2,
   "id": "98c109d6-b69d-4160-8024-94b158869355",
   "metadata": {},
   "outputs": [],
   "source": [
    "def initialisation():\n",
    "    plateau_initial = []\n",
    "    while len(plateau_initial) < 9:\n",
    "        a = random.randint(0, 8)\n",
    "        if a not in plateau_initial:\n",
    "            plateau_initial.append(a)\n",
    "\n",
    "    return plateau_initial\n",
    "\n",
    "#jeu_initial=initialisation()\n",
    "#print(jeu_initial)\n",
    "jeu_initial=[8,9,7,5,0,1,3,2,4]"
   ]
  },
  {
   "cell_type": "markdown",
   "id": "a8198ac4-6fed-4b6b-8962-69bd1d84c3e7",
   "metadata": {},
   "source": [
    "Maintenant, on peut créer notre liste de toutes les configurations accessibles à partir de l'initiale."
   ]
  },
  {
   "cell_type": "code",
   "execution_count": 3,
   "id": "f6f19496-9bc3-4b3a-b579-09f50d6364fe",
   "metadata": {},
   "outputs": [],
   "source": [
    "def position_0(grille):\n",
    "    for i in range(9):\n",
    "        if grille[i]== 0 :\n",
    "            position = np.array([i//3 , i%3])\n",
    "            indice = i\n",
    "            break\n",
    "    return position , indice"
   ]
  },
  {
   "cell_type": "code",
   "execution_count": 4,
   "id": "204166a6-62ab-4e7c-8dee-aba7592042b0",
   "metadata": {},
   "outputs": [],
   "source": [
    "def configurations_atteignables(probleme:list):\n",
    "\n",
    "    probleme_t = tuple(probleme)\n",
    "\n",
    "    configurations_atteignables = set()  #on y mettra toutes les configurations qui sont accessibles depuis le problème initial\n",
    "    configurations_atteignables.add(probleme_t)\n",
    "\n",
    "    arretes = {} # dictionnaire avec configuration possible en clé et en valeurs la liste des configurations auxquelles elle est reliée par un mouvement élémentaire\n",
    "\n",
    "\n",
    "    voisins = [probleme] #on y met les configuartions atteignables que l'on n'a pas encore visité\n",
    "    heapq.heapify(voisins) # on initialise la pile\n",
    "    mouvements_possibles = [np.array([1,0]) , np.array([-1,0]) , np.array([0,1]) , np.array([0,-1])] #mouvements élémentaires possibles\n",
    "\n",
    "    while len(voisins)>0 :  \n",
    "        config = heapq.heappop(voisins) \n",
    "        position , indice = position_0(config)\n",
    "        config_t = tuple(config)  # on a besoin d'un type hashable\n",
    "        arretes[config_t] = []\n",
    "        for k in mouvements_possibles :\n",
    "            nouvelle_position = position + k\n",
    "            i , j = position[0] , position[1] \n",
    "            i_nouv , j_nouv = nouvelle_position[0], nouvelle_position[1] \n",
    "            indice_nouv = 3*i_nouv + j_nouv\n",
    "\n",
    "            if (i_nouv <= 2 ) and (j_nouv <= 2 ) and (i_nouv >= 0 ) and (j_nouv >= 0) :\n",
    "\n",
    "                nouv_config = config.copy()\n",
    "                nouv_config[indice_nouv] , nouv_config[indice] = config[indice] , config[indice_nouv]\n",
    "                nouv_config_t = tuple(nouv_config) # on a besoin d'un type hashable\n",
    "\n",
    "                if nouv_config_t not in configurations_atteignables :\n",
    "                    configurations_atteignables.add(nouv_config_t)\n",
    "                    heapq.heappush(voisins, nouv_config)\n",
    "                    arretes[config_t].append(nouv_config_t)\n",
    "    \n",
    "    return configurations_atteignables , arretes\n"
   ]
  },
  {
   "cell_type": "code",
   "execution_count": 5,
   "id": "0f8d494f-b8c5-45b3-8023-660935289c26",
   "metadata": {},
   "outputs": [
    {
     "name": "stdout",
     "output_type": "stream",
     "text": [
      "<class 'list'>\n"
     ]
    }
   ],
   "source": [
    "configurations_atteignables_, arretes = configurations_atteignables(jeu_initial)\n",
    "\n",
    "print(type(list(configurations_atteignables_)))"
   ]
  },
  {
   "cell_type": "markdown",
   "id": "c65f2cb4-2d95-4874-9e80-76c5a3c99de6",
   "metadata": {},
   "source": [
    "Si la solution est atteignable, on lance alors Dijkstra pour trouver un chemin reliant les configurations initiales et finales."
   ]
  },
  {
   "cell_type": "code",
   "execution_count": 6,
   "id": "36491a91-63fd-44ce-82a8-1c98a10af5c4",
   "metadata": {},
   "outputs": [],
   "source": [
    "########### dijkstra_path ##############\n",
    "\n",
    "\n",
    "def dijkstra_path(g : dict, v_init,v_fin):\n",
    "  visited = {x : False for x in g}  #dico des sommets visités {config:Bool}\n",
    "  pred = {x : None for x in g}      #dico des predecesseurs\n",
    "  dist = {x : float('inf') for x in g} #dico des distances\n",
    "  dist[v_init] = 0  #v_init est à distance 0 de lui-même\n",
    "  hq = [(0, v_init)]\n",
    "  heapq.heapify(hq)  # création de la FP\n",
    "  N=0   # compteur des sommets visités\n",
    "  while len(hq)>0 and not(visited[v_fin]): # visite des sommets\n",
    "    dv,v=heapq.heappop(hq)  # extraction du sommet de prio min\n",
    "    if not visited[v]:   # s'il n'est pas déjà visité,\n",
    "      visited[v] = True   # on le visite NAO\n",
    "      N+=1  #maj du compteur\n",
    "      for w in g[v]:\n",
    "# parcours des voisins non visités de v car g[v] est liste des sommets atteignables à partir de v (et l'arrête est de poids 1)\n",
    "        if not visited[w]:\n",
    "          dw = dv + 1    # relâchement de l'arête (v,w)\n",
    "          if dw < dist[w]:\n",
    "            dist[w] = dw   # maj de la distance min\n",
    "            pred[w] = v    # maj du prédécesseur\n",
    "            heapq.heappush(hq, (dw, w)) # ajout dans la FP\n",
    "  if not visited[v_fin]: # cas où v_fin n'est pas accessible\n",
    "    print(\"Pas de solution, en partant de \"+str(v_fin))\n",
    "  else:   #construction du chemin\n",
    "    C=[v_fin]\n",
    "    while C[0]!= v_init:\n",
    "      w=pred[C[0]]\n",
    "      C=[w]+C\n",
    "    return N,dist[v_fin],C"
   ]
  },
  {
   "cell_type": "markdown",
   "id": "7746304a",
   "metadata": {},
   "source": [
    "Il faut tout de même vérifier que la solution ie [1,2,3,4,5,6,7,8,0] est dans les configurations atteignables."
   ]
  },
  {
   "cell_type": "code",
   "execution_count": 9,
   "id": "9c978cba",
   "metadata": {},
   "outputs": [
    {
     "ename": "KeyError",
     "evalue": "(1, 2, 3, 4, 5, 6, 7, 8, 0)",
     "output_type": "error",
     "traceback": [
      "\u001b[1;31m---------------------------------------------------------------------------\u001b[0m",
      "\u001b[1;31mKeyError\u001b[0m                                  Traceback (most recent call last)",
      "Cell \u001b[1;32mIn[9], line 3\u001b[0m\n\u001b[0;32m      1\u001b[0m solution \u001b[38;5;241m=\u001b[39m \u001b[38;5;28mtuple\u001b[39m([\u001b[38;5;241m1\u001b[39m,\u001b[38;5;241m2\u001b[39m,\u001b[38;5;241m3\u001b[39m,\u001b[38;5;241m4\u001b[39m,\u001b[38;5;241m5\u001b[39m,\u001b[38;5;241m6\u001b[39m,\u001b[38;5;241m7\u001b[39m,\u001b[38;5;241m8\u001b[39m,\u001b[38;5;241m0\u001b[39m])\n\u001b[0;32m      2\u001b[0m \u001b[38;5;28;01mif\u001b[39;00m solution \u001b[38;5;129;01mnot\u001b[39;00m \u001b[38;5;129;01min\u001b[39;00m configurations_atteignables_ : \n\u001b[1;32m----> 3\u001b[0m     \u001b[38;5;28mprint\u001b[39m(\u001b[43mdijkstra_path\u001b[49m\u001b[43m(\u001b[49m\u001b[43marretes\u001b[49m\u001b[43m,\u001b[49m\u001b[43m \u001b[49m\u001b[38;5;28;43mtuple\u001b[39;49m\u001b[43m(\u001b[49m\u001b[43mjeu_initial\u001b[49m\u001b[43m)\u001b[49m\u001b[43m,\u001b[49m\u001b[43m \u001b[49m\u001b[43msolution\u001b[49m\u001b[43m)\u001b[49m)\n\u001b[0;32m      4\u001b[0m     \u001b[38;5;28mprint\u001b[39m(\u001b[38;5;124m\"\u001b[39m\u001b[38;5;124mIl n\u001b[39m\u001b[38;5;124m'\u001b[39m\u001b[38;5;124my a pas de solution à partir de cette configuration initiale...\u001b[39m\u001b[38;5;124m\"\u001b[39m)\n\u001b[0;32m      5\u001b[0m \u001b[38;5;28;01melse\u001b[39;00m :\n",
      "Cell \u001b[1;32mIn[6], line 12\u001b[0m, in \u001b[0;36mdijkstra_path\u001b[1;34m(g, v_init, v_fin)\u001b[0m\n\u001b[0;32m     10\u001b[0m heapq\u001b[38;5;241m.\u001b[39mheapify(hq)  \u001b[38;5;66;03m# création de la FP\u001b[39;00m\n\u001b[0;32m     11\u001b[0m N\u001b[38;5;241m=\u001b[39m\u001b[38;5;241m0\u001b[39m   \u001b[38;5;66;03m# compteur des sommets visités\u001b[39;00m\n\u001b[1;32m---> 12\u001b[0m \u001b[38;5;28;01mwhile\u001b[39;00m \u001b[38;5;28mlen\u001b[39m(hq)\u001b[38;5;241m>\u001b[39m\u001b[38;5;241m0\u001b[39m \u001b[38;5;129;01mand\u001b[39;00m \u001b[38;5;129;01mnot\u001b[39;00m(\u001b[43mvisited\u001b[49m\u001b[43m[\u001b[49m\u001b[43mv_fin\u001b[49m\u001b[43m]\u001b[49m): \u001b[38;5;66;03m# visite des sommets\u001b[39;00m\n\u001b[0;32m     13\u001b[0m   dv,v\u001b[38;5;241m=\u001b[39mheapq\u001b[38;5;241m.\u001b[39mheappop(hq)  \u001b[38;5;66;03m# extraction du sommet de prio min\u001b[39;00m\n\u001b[0;32m     14\u001b[0m   \u001b[38;5;28;01mif\u001b[39;00m \u001b[38;5;129;01mnot\u001b[39;00m visited[v]:   \u001b[38;5;66;03m# s'il n'est pas déjà visité,\u001b[39;00m\n",
      "\u001b[1;31mKeyError\u001b[0m: (1, 2, 3, 4, 5, 6, 7, 8, 0)"
     ]
    }
   ],
   "source": [
    "solution = tuple([1,2,3,4,5,6,7,8,0])\n",
    "if solution not in configurations_atteignables_ : \n",
    "    print(dijkstra_path(arretes, tuple(jeu_initial), solution))\n",
    "    print(\"Il n'y a pas de solution à partir de cette configuration initiale...\")\n",
    "else :\n",
    "    N, dist, Pb_résolu=dijkstra_path(arretes, tuple(jeu_initial), solution)\n",
    "    n=len(Pb_résolu)\n",
    "    print(f\"la solution se fait en {n} coups\")\n",
    "    for i in range(n):\n",
    "        print(i+1, Pb_résolu[i]) "
   ]
  },
  {
   "cell_type": "code",
   "execution_count": null,
   "id": "485cd2bb-2e67-467b-8cdb-550f49d58c16",
   "metadata": {},
   "outputs": [],
   "source": []
  }
 ],
 "metadata": {
  "kernelspec": {
   "display_name": "base",
   "language": "python",
   "name": "python3"
  },
  "language_info": {
   "codemirror_mode": {
    "name": "ipython",
    "version": 3
   },
   "file_extension": ".py",
   "mimetype": "text/x-python",
   "name": "python",
   "nbconvert_exporter": "python",
   "pygments_lexer": "ipython3",
   "version": "3.12.4"
  }
 },
 "nbformat": 4,
 "nbformat_minor": 5
}
